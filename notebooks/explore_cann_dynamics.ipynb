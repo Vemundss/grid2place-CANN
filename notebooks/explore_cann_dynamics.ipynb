{
 "cells": [
  {
   "cell_type": "code",
   "execution_count": 1,
   "id": "cd2d9ae7-4199-4856-9395-90515052cac9",
   "metadata": {},
   "outputs": [],
   "source": [
    "%load_ext autoreload\n",
    "%autoreload 2\n",
    "%matplotlib inline"
   ]
  },
  {
   "cell_type": "code",
   "execution_count": 2,
   "id": "9d000be5-27e8-45e0-bbb0-c843d170459a",
   "metadata": {},
   "outputs": [],
   "source": [
    "import numpy as np\n",
    "import matplotlib.pyplot as plt\n",
    "\n",
    "import sys\n",
    "sys.path.append(\"../src\") if \"../src\" not in sys.path else None \n",
    "\n",
    "from CANN import CANN"
   ]
  },
  {
   "cell_type": "code",
   "execution_count": 3,
   "id": "3e61f0de-88e5-4a3f-b358-fb7ae2822a7b",
   "metadata": {},
   "outputs": [],
   "source": [
    "Ng = 4096\n",
    "Np = 512\n",
    "nonlinearity = \"relu\"\n",
    "cann = CANN(Ng, Np, nonlinearity)"
   ]
  },
  {
   "cell_type": "code",
   "execution_count": 7,
   "id": "7eeea060-a7df-415a-aa1b-36212312814b",
   "metadata": {},
   "outputs": [],
   "source": [
    "h0 = np.random.random(Ng)\n",
    "vs = [np.zeros(2)]*10\n",
    "\n",
    "hn = cann.g(h0, vs)"
   ]
  },
  {
   "cell_type": "code",
   "execution_count": 8,
   "id": "33fd1cf7-b90b-41c1-985e-301576d1f300",
   "metadata": {},
   "outputs": [
    {
     "data": {
      "text/plain": [
       "<matplotlib.image.AxesImage at 0x7fcf8037db50>"
      ]
     },
     "execution_count": 8,
     "metadata": {},
     "output_type": "execute_result"
    },
    {
     "data": {
      "image/png": "[encoded data removed]",
      "text/plain": [
       "<Figure size 432x288 with 1 Axes>"
      ]
     },
     "metadata": {
      "needs_background": "light"
     },
     "output_type": "display_data"
    }
   ],
   "source": [
    "plt.imshow(hn.reshape(64,64))"
   ]
  },
  {
   "cell_type": "code",
   "execution_count": null,
   "id": "94ec7f60-ad67-4741-b5ac-10267053dda4",
   "metadata": {},
   "outputs": [],
   "source": []
  }
 ],
 "metadata": {
  "kernelspec": {
   "display_name": "Python [conda env:ml]",
   "language": "python",
   "name": "conda-env-ml-py"
  },
  "language_info": {
   "codemirror_mode": {
    "name": "ipython",
    "version": 3
   },
   "file_extension": ".py",
   "mimetype": "text/x-python",
   "name": "python",
   "nbconvert_exporter": "python",
   "pygments_lexer": "ipython3",
   "version": "3.8.3"
  }
 },
 "nbformat": 4,
 "nbformat_minor": 5
}
