{
 "cells": [
  {
   "cell_type": "code",
   "execution_count": 1,
   "id": "cd2d9ae7-4199-4856-9395-90515052cac9",
   "metadata": {},
   "outputs": [],
   "source": [
    "%load_ext autoreload\n",
    "%autoreload 2\n",
    "%matplotlib inline"
   ]
  },
  {
   "cell_type": "code",
   "execution_count": 2,
   "id": "9d000be5-27e8-45e0-bbb0-c843d170459a",
   "metadata": {},
   "outputs": [],
   "source": [
    "import numpy as np\n",
    "import matplotlib.pyplot as plt\n",
    "\n",
    "import sys\n",
    "sys.path.append(\"../src\") if \"../src\" not in sys.path else None \n",
    "\n",
    "from CANN import CANN"
   ]
  },
  {
   "cell_type": "code",
   "execution_count": 3,
   "id": "3e61f0de-88e5-4a3f-b358-fb7ae2822a7b",
   "metadata": {},
   "outputs": [],
   "source": [
    "Ng = 4096\n",
    "Np = 512\n",
    "nonlinearity = \"relu\"\n",
    "cann = CANN(Ng, Np, nonlinearity)"
   ]
  },
  {
   "cell_type": "code",
   "execution_count": 4,
   "id": "7eeea060-a7df-415a-aa1b-36212312814b",
   "metadata": {},
   "outputs": [],
   "source": [
    "h0 = np.random.random(Ng)\n",
    "v = [np.zeros(2)]*10"
   ]
  },
  {
   "cell_type": "code",
   "execution_count": 5,
   "id": "33fd1cf7-b90b-41c1-985e-301576d1f300",
   "metadata": {},
   "outputs": [
    {
     "ename": "NameError",
     "evalue": "name 'hn' is not defined",
     "output_type": "error",
     "traceback": [
      "\u001b[0;31m---------------------------------------------------------------------------\u001b[0m",
      "\u001b[0;31mNameError\u001b[0m                                 Traceback (most recent call last)",
      "\u001b[0;32m<ipython-input-5-167c9c21a871>\u001b[0m in \u001b[0;36m<module>\u001b[0;34m\u001b[0m\n\u001b[0;32m----> 1\u001b[0;31m \u001b[0mplt\u001b[0m\u001b[0;34m.\u001b[0m\u001b[0mimshow\u001b[0m\u001b[0;34m(\u001b[0m\u001b[0mhn\u001b[0m\u001b[0;34m.\u001b[0m\u001b[0mreshape\u001b[0m\u001b[0;34m(\u001b[0m\u001b[0;36m64\u001b[0m\u001b[0;34m,\u001b[0m\u001b[0;36m64\u001b[0m\u001b[0;34m)\u001b[0m\u001b[0;34m)\u001b[0m\u001b[0;34m\u001b[0m\u001b[0;34m\u001b[0m\u001b[0m\n\u001b[0m",
      "\u001b[0;31mNameError\u001b[0m: name 'hn' is not defined"
     ]
    }
   ],
   "source": [
    "plt.imshow(hn.reshape(64,64))"
   ]
  },
  {
   "cell_type": "code",
   "execution_count": null,
   "id": "9c332ce7-6d9e-4b7a-b1c9-bedc07dba9ba",
   "metadata": {},
   "outputs": [],
   "source": [
    "plt.imshow(cann.J)"
   ]
  },
  {
   "cell_type": "code",
   "execution_count": null,
   "id": "98a25243-e24b-4a4d-8b0c-ab1320f77807",
   "metadata": {},
   "outputs": [],
   "source": [
    "plt.imshow(cann.J[:64,:64])"
   ]
  },
  {
   "cell_type": "code",
   "execution_count": null,
   "id": "075de060-b72e-4028-932e-5c03a566ea3d",
   "metadata": {},
   "outputs": [],
   "source": [
    "plt.imshow(cann.J[-1][::-1].reshape(64,64))"
   ]
  },
  {
   "cell_type": "code",
   "execution_count": null,
   "id": "c0623da9-aca3-4b48-8b0a-f904cd137135",
   "metadata": {},
   "outputs": [],
   "source": [
    "plt.imshow(cann.J[0].reshape(64,64))"
   ]
  },
  {
   "cell_type": "code",
   "execution_count": null,
   "id": "94ec7f60-ad67-4741-b5ac-10267053dda4",
   "metadata": {},
   "outputs": [],
   "source": []
  }
 ],
 "metadata": {
  "kernelspec": {
   "display_name": "Python [conda env:ml]",
   "language": "python",
   "name": "conda-env-ml-py"
  },
  "language_info": {
   "codemirror_mode": {
    "name": "ipython",
    "version": 3
   },
   "file_extension": ".py",
   "mimetype": "text/x-python",
   "name": "python",
   "nbconvert_exporter": "python",
   "pygments_lexer": "ipython3",
   "version": "3.8.3"
  }
 },
 "nbformat": 4,
 "nbformat_minor": 5
}
