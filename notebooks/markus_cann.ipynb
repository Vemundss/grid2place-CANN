{
 "cells": [
  {
   "cell_type": "code",
   "execution_count": 1,
   "id": "f5794a29",
   "metadata": {},
   "outputs": [],
   "source": [
    "import numpy as np \n",
    "import matplotlib.pyplot as plt "
   ]
  },
  {
   "cell_type": "code",
   "execution_count": 2,
   "id": "45cfc1dc",
   "metadata": {},
   "outputs": [],
   "source": [
    "nl = 64\n",
    "ng = nl**2 "
   ]
  },
  {
   "cell_type": "code",
   "execution_count": 3,
   "id": "a81f8631",
   "metadata": {},
   "outputs": [],
   "source": [
    "# CAN for simpletons"
   ]
  },
  {
   "cell_type": "code",
   "execution_count": 4,
   "id": "3ece22d3",
   "metadata": {},
   "outputs": [],
   "source": [
    "class CanCan:\n",
    "    # Can based on OG paper\n",
    "    def __init__(self, nl, l = 2):\n",
    "        self.nl = nl\n",
    "        \n",
    "        # neural sheet belongs to model >:)\n",
    "        self.sheet = self.create_sheet(nl)\n",
    "        \n",
    "        self.tau = 1e-2\n",
    "        self.dt = 5e-4\n",
    "        self.tc = self.dt/self.tau # time constant ;) \n",
    "        \n",
    "        self.alpha = 0.10315\n",
    "        self.l = l # 2 is correct I think\n",
    "    \n",
    "        # these are excellent parameters, apparently\n",
    "        lambda_net = 13 # periodicity of the formed lattice\n",
    "        self.beta = 3/lambda_net**2 \n",
    "        self.gamma = 1.05*self.beta\n",
    "        \n",
    "        self.shift = self.init_shifts()\n",
    "        self.wr = self.init_periodic_recurrent_weights(self.sheet) # (nl, nl)\n",
    "        self.win = self.init_input_weights(self.sheet) # (nl, 2)\n",
    "        \n",
    "        \n",
    "        \n",
    "    def create_sheet(self, nl):\n",
    "        # create square neural sheet\n",
    "        x = np.arange(nl) - nl/2\n",
    "        y = np.arange(nl) - nl/2 \n",
    "        xx, yy = np.meshgrid(x, y)\n",
    "        return np.stack((xx, yy), axis = -1)       \n",
    "        \n",
    "    def relu(self, x):\n",
    "        return x*(x > 0.0)\n",
    "    \n",
    "    def init_periodic_recurrent_weights(self, sheet):\n",
    "        \n",
    "        ravel_sheet = np.reshape(sheet, (-1, 2)) # (64, 64, 2) -> (64**2, 2)\n",
    "        ravel_shift = np.reshape(self.shift, (-1, 2)) # \n",
    "        # compute distances\n",
    "        d = np.abs(ravel_sheet[:, None] - (ravel_sheet + self.l*ravel_shift)[None])\n",
    "        # compute periodic distances\n",
    "        periodic_d = np.minimum(d, self.nl - d) # nl is width of box        \n",
    "        \n",
    "        papa = np.sum(periodic_d**2, axis = -1) # ran out of names\n",
    "        w0 = np.exp(-self.gamma*papa) - np.exp(-self.beta*papa) # DoG\n",
    "        return w0.reshape((self.nl**2, self.nl**2))\n",
    "        \n",
    "    def init_input_weights(self, sheet):\n",
    "        pass\n",
    "    \n",
    "    def init_shifts(self):\n",
    "        # shifts are north, south, east and west\n",
    "        # modify mod2 approach to get each cardinal direction\n",
    "        p = self.sheet[...,0]\n",
    "        q = self.sheet[...,1]\n",
    "\n",
    "        a = (p+1)%2*(-1)**q\n",
    "        b = p%2*(-1)**q\n",
    "\n",
    "        shift = np.stack((a,b), axis=-1)\n",
    "        return shift\n",
    "        \n",
    "    \n",
    "    def g(self, r, f = 1, orientation_offset = 0):\n",
    "        # grid cell func, not strictly needed\n",
    "        g = 0\n",
    "        theta = np.arange(3)*np.pi/3 + orientation_offset\n",
    "        k = np.stack((np.cos(theta), np.sin(theta)), axis = -1)\n",
    "        g = np.sum(np.cos(2*np.pi*f*np.sum(k[None, None]*r[:,:,None], axis = -1)), axis = -1) # eww\n",
    "        return g\n",
    "    \n",
    "    def forward(self, h, v):\n",
    "        # h.shape = (nl, nl)\n",
    "        # v.shape = (2,)\n",
    "        recurrence = np.tensordot(h, self.wr, axes = (-1, -1))\n",
    "        velocity_inputs = 1 + self.alpha*np.tensordot(v, self.shift, axes = (-1, -1))\n",
    "        velocity_inputs = np.ravel(velocity_inputs)\n",
    "        \n",
    "        # continuous time rnn\n",
    "        u = h + self.tc*(self.relu(recurrence + velocity_inputs) - h)\n",
    "        return u\n",
    "        \n"
   ]
  },
  {
   "cell_type": "code",
   "execution_count": 5,
   "id": "62b2e34e",
   "metadata": {},
   "outputs": [],
   "source": [
    "model = CanCan(nl)"
   ]
  },
  {
   "cell_type": "code",
   "execution_count": 6,
   "id": "959397dd",
   "metadata": {},
   "outputs": [
    {
     "data": {
      "text/plain": [
       "<matplotlib.colorbar.Colorbar at 0x7f16703adf40>"
      ]
     },
     "execution_count": 6,
     "metadata": {},
     "output_type": "execute_result"
    },
    {
     "data": {
      "image/png": "[encoded data removed]",
      "text/plain": [
       "<Figure size 432x288 with 2 Axes>"
      ]
     },
     "metadata": {
      "needs_background": "light"
     },
     "output_type": "display_data"
    }
   ],
   "source": [
    "# plot norm of neural sheet coordinates\n",
    "plt.imshow(np.linalg.norm(model.sheet, axis = -1), cmap = \"tab10\") # completely uninformative cmap\n",
    "plt.colorbar()"
   ]
  },
  {
   "cell_type": "code",
   "execution_count": 7,
   "id": "dd69a0ad",
   "metadata": {},
   "outputs": [
    {
     "data": {
      "text/plain": [
       "<matplotlib.image.AxesImage at 0x7f167025a2e0>"
      ]
     },
     "execution_count": 7,
     "metadata": {},
     "output_type": "execute_result"
    },
    {
     "data": {
      "image/png": "[encoded data removed]",
      "text/plain": [
       "<Figure size 432x288 with 1 Axes>"
      ]
     },
     "metadata": {
      "needs_background": "light"
     },
     "output_type": "display_data"
    }
   ],
   "source": [
    "# plot example grid cell function for some reason\n",
    "g = model.g(model.sheet/nl, f = 3)\n",
    "plt.imshow(g.T, origin = \"lower\", cmap = \"Accent\") # :o)"
   ]
  },
  {
   "cell_type": "code",
   "execution_count": null,
   "id": "6fe33995",
   "metadata": {},
   "outputs": [],
   "source": []
  },
  {
   "cell_type": "code",
   "execution_count": 8,
   "id": "021acdee",
   "metadata": {},
   "outputs": [
    {
     "data": {
      "image/png": "[encoded data removed]",
      "text/plain": [
       "<Figure size 432x288 with 4 Axes>"
      ]
     },
     "metadata": {
      "needs_background": "light"
     },
     "output_type": "display_data"
    }
   ],
   "source": [
    "w = model.init_periodic_recurrent_weights(model.sheet)\n",
    "\n",
    "show_cells = [0, 500, 2080,  3000]\n",
    "fig, axs = plt.subplots(1, len(show_cells))\n",
    "\n",
    "for i, cell in enumerate(show_cells):\n",
    "    axs[i].imshow(w[cell].reshape((nl, nl)), cmap = \"bwr\")\n",
    "plt.show()"
   ]
  },
  {
   "cell_type": "code",
   "execution_count": 9,
   "id": "df3e8d2b",
   "metadata": {},
   "outputs": [],
   "source": [
    "y = model.init_shifts()"
   ]
  },
  {
   "cell_type": "code",
   "execution_count": 10,
   "id": "94378c75",
   "metadata": {},
   "outputs": [
    {
     "name": "stdout",
     "output_type": "stream",
     "text": [
      "[1. 0.][0. 1.][1. 0.][0. 1.]\n",
      "\n",
      "[-1. -0.][-0. -1.][-1. -0.][-0. -1.]\n",
      "\n",
      "[1. 0.][0. 1.][1. 0.][0. 1.]\n",
      "\n",
      "[-1. -0.][-0. -1.][-1. -0.][-0. -1.]\n",
      "\n"
     ]
    }
   ],
   "source": [
    "# print some units for sanity\n",
    "for i in range(4):\n",
    "    for j in range(4):\n",
    "        print(y[i,j], end = \"\")\n",
    "    print('\\n')"
   ]
  },
  {
   "cell_type": "code",
   "execution_count": 11,
   "id": "0dd2aac7",
   "metadata": {},
   "outputs": [
    {
     "data": {
      "image/png": "[encoded data removed]",
      "text/plain": [
       "<Figure size 432x288 with 2 Axes>"
      ]
     },
     "metadata": {
      "needs_background": "light"
     },
     "output_type": "display_data"
    }
   ],
   "source": [
    "# plot sum of shifts along last axis (should be +1 or -1)\n",
    "plt.imshow(np.sum(y[:16,:16],axis=-1))\n",
    "plt.colorbar();"
   ]
  },
  {
   "cell_type": "code",
   "execution_count": 12,
   "id": "57b8a47e",
   "metadata": {},
   "outputs": [],
   "source": [
    "init_state = np.random.uniform(0, 1, (64, 64))\n",
    "h = np.ravel(init_state)\n",
    "\n",
    "v = np.array([0,1])*0\n",
    "model = CanCan(64, 0)# \"if l, alpha =0, the network develops a static triangular grid\" "
   ]
  },
  {
   "cell_type": "code",
   "execution_count": 57,
   "id": "33ff56b7",
   "metadata": {},
   "outputs": [
    {
     "data": {
      "image/png": "[encoded data removed]",
      "text/plain": [
       "<Figure size 432x288 with 1 Axes>"
      ]
     },
     "metadata": {
      "needs_background": "light"
     },
     "output_type": "display_data"
    }
   ],
   "source": [
    "for i in range(100):\n",
    "    h = model.forward(h, v)\n",
    "plt.imshow(h.reshape((64, 64)))\n",
    "plt.show()\n",
    "# it works!"
   ]
  },
  {
   "cell_type": "code",
   "execution_count": null,
   "id": "f385ad74",
   "metadata": {},
   "outputs": [],
   "source": []
  },
  {
   "cell_type": "code",
   "execution_count": null,
   "id": "46165b89",
   "metadata": {},
   "outputs": [],
   "source": []
  },
  {
   "cell_type": "code",
   "execution_count": null,
   "id": "05af8608",
   "metadata": {},
   "outputs": [],
   "source": []
  },
  {
   "cell_type": "code",
   "execution_count": null,
   "id": "7242821d",
   "metadata": {},
   "outputs": [],
   "source": []
  },
  {
   "cell_type": "code",
   "execution_count": null,
   "id": "85bc198c",
   "metadata": {},
   "outputs": [],
   "source": []
  },
  {
   "cell_type": "code",
   "execution_count": null,
   "id": "6e2a90f9",
   "metadata": {},
   "outputs": [],
   "source": []
  },
  {
   "cell_type": "code",
   "execution_count": null,
   "id": "3d3b8838",
   "metadata": {},
   "outputs": [],
   "source": []
  }
 ],
 "metadata": {
  "kernelspec": {
   "display_name": "Python 3 (ipykernel)",
   "language": "python",
   "name": "python3"
  },
  "language_info": {
   "codemirror_mode": {
    "name": "ipython",
    "version": 3
   },
   "file_extension": ".py",
   "mimetype": "text/x-python",
   "name": "python",
   "nbconvert_exporter": "python",
   "pygments_lexer": "ipython3",
   "version": "3.9.7"
  }
 },
 "nbformat": 4,
 "nbformat_minor": 5
}
